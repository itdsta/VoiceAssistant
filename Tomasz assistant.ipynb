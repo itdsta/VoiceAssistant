{
 "cells": [
  {
   "cell_type": "markdown",
   "id": "bbc95817",
   "metadata": {},
   "source": [
    "# Voice assistant. Speech recognition."
   ]
  },
  {
   "cell_type": "code",
   "execution_count": 1,
   "id": "d6851170",
   "metadata": {},
   "outputs": [],
   "source": [
    "# Library for performing speech recognition, with support for several engines and APIs, online and offline.\n",
    "import speech_recognition as sr\n",
    "\n",
    "# s a text-to-speech conversion library in Python. \n",
    "# Unlike alternative libraries, it works offline, and is compatible with both Python 2 and 3.\n",
    "import pyttsx3\n",
    "\n",
    "# The module supplies classes for manipulating dates and times.\n",
    "import datetime\n",
    "\n",
    "# Wikipedia is a Python library that makes it easy to access and parse data from Wikipedia.\n",
    "import wikipedia\n",
    "\n",
    "# The webbrowser module provides a high-level interface to allow displaying web-based documents to users.\n",
    "import webbrowser\n",
    "\n",
    "# This module provides various time-related functions\n",
    "import time"
   ]
  },
  {
   "cell_type": "markdown",
   "id": "8de68ebb",
   "metadata": {},
   "source": [
    "## I am converting text to speech using pyttsx3.init() which is used for voice recognition.\n",
    "## Voice ID can be set to 0 or 1: 0 - means male voice, 1 - means female voice\n"
   ]
  },
  {
   "cell_type": "code",
   "execution_count": 2,
   "id": "e77b8be1",
   "metadata": {},
   "outputs": [],
   "source": [
    "processing = pyttsx3.init()\n",
    "choose_voices = processing.getProperty('voices')\n",
    "processing.setProperty('voice', choose_voices[0].id)"
   ]
  },
  {
   "cell_type": "markdown",
   "id": "ca326351",
   "metadata": {},
   "source": [
    "## The conversion_to_voice function takes text as an argument and converts it into speech.\n",
    "## The Python runAndWait() method blocks the processing of any current commands in the queue. It accordingly invokes callbacks for engine notifications and returns when all commands queued before that call have been removed from the queue."
   ]
  },
  {
   "cell_type": "code",
   "execution_count": 3,
   "id": "c31841e8",
   "metadata": {},
   "outputs": [],
   "source": [
    "def conversion_to_voice(text):\n",
    "    processing.say(text)\n",
    "    processing.runAndWait()"
   ]
  },
  {
   "cell_type": "markdown",
   "id": "d7a07411",
   "metadata": {},
   "source": [
    "## The greeting_speech function makes the assistant greet you. \n",
    "## The now().hour function identifies the current time"
   ]
  },
  {
   "cell_type": "code",
   "execution_count": 4,
   "id": "d58ad5ee",
   "metadata": {},
   "outputs": [],
   "source": [
    "def greeting_speech ():\n",
    "    hour = datetime.datetime.now().hour\n",
    "    \n",
    "    if hour >= 0 and hour < 12:\n",
    "        conversion_to_voice(\"Good Morning\")\n",
    "        print(\"Good Morning\")\n",
    "        \n",
    "    elif hour >= 12 and hour < 18:\n",
    "        conversion_to_voice(\"Good Afternoon\")\n",
    "        print(\"Good Afternoon\")\n",
    "        \n",
    "    else:\n",
    "        conversion_to_voice(\"Good Evening\")\n",
    "        print(\"Good Evening\")"
   ]
  },
  {
   "cell_type": "markdown",
   "id": "70d6c5bb",
   "metadata": {},
   "source": [
    "## The voice_command_recognition function helps to understand human language. The microphone processes human speech and the Recognizer package recognizes speech and provides an answer."
   ]
  },
  {
   "cell_type": "code",
   "execution_count": 5,
   "id": "21b192fe",
   "metadata": {},
   "outputs": [
    {
     "name": "stdout",
     "output_type": "stream",
     "text": [
      "Good Afternoon\n",
      "I am Your personal assistent.\n"
     ]
    }
   ],
   "source": [
    "def voice_command_recognition():\n",
    "    recognizer = sr.Recognizer()\n",
    "    \n",
    "    with sr.Microphone() as start_voice_command:\n",
    "        print(\"Speaking...\")\n",
    "        audio = recognizer.listen(start_voice_command)\n",
    "\n",
    "        try:\n",
    "            voice_command = recognizer.recognize_google(audio, language = 'en-US')\n",
    "            print(f\" User said: {voice_command} \\n\")\n",
    "\n",
    "        except Exception as error_command:\n",
    "            conversion_to_voice(\"Please repeat it again\")\n",
    "            print(\"Please repeat it again\")\n",
    "            return \"None\"\n",
    "        \n",
    "        return voice_command\n",
    "\n",
    "greeting_speech()\n",
    "print(\"I am Your personal assistent.\")\n",
    "conversion_to_voice(\"I am Your personal assistent.\")"
   ]
  },
  {
   "cell_type": "markdown",
   "id": "5eb398c1",
   "metadata": {},
   "source": [
    "## The function will store the given name."
   ]
  },
  {
   "cell_type": "code",
   "execution_count": 6,
   "id": "de94f936",
   "metadata": {},
   "outputs": [],
   "source": [
    "class person:  \n",
    "    name = ''  \n",
    "    def setName(self, name):  \n",
    "        self.name = name \n",
    "\n",
    "person_obj = person() "
   ]
  },
  {
   "cell_type": "markdown",
   "id": "4e14e3ab",
   "metadata": {},
   "source": [
    "## This is the main feature. User commands are stored in a variable statement."
   ]
  },
  {
   "cell_type": "code",
   "execution_count": 7,
   "id": "9fa21e3a",
   "metadata": {},
   "outputs": [
    {
     "name": "stdout",
     "output_type": "stream",
     "text": [
      "Speaking...\n",
      " User said: stop \n",
      "\n",
      "Thank you and Good bye. Hopes to see you soon \n"
     ]
    }
   ],
   "source": [
    "if __name__ == '__main__':\n",
    "\n",
    "    while True:\n",
    "        conversion_to_voice(\"How can I help you?\")\n",
    "        voice_command = voice_command_recognition().lower()\n",
    "        \n",
    "        if voice_command == 0:\n",
    "            continue\n",
    "            \n",
    "        if \"what is your name\" in voice_command:\n",
    "            conversion_to_voice('You can call me Bob. What is your name?')\n",
    "            print('You can call me Bob. What is your name?')\n",
    "            \n",
    "        elif \"my name is\" in voice_command or \"i am\" in voice_command:  \n",
    "            users_name = voice_command.split(\"is\")[-1].strip()  \n",
    "            conversion_to_voice(f\" okay, i will remember that {users_name}\")\n",
    "            person_obj.setName(users_name) # remember name in person object  \n",
    "            \n",
    "        # If the word 'stop' appears in the user command, the virtual assistant will say the following command: \n",
    "        # e.g.: \"Thank you stop\"\n",
    "        if \"stop\" in voice_command:\n",
    "            conversion_to_voice(f'Thank you and Good bye. Hopes to see you soon {person_obj.name}')\n",
    "            print(f'Thank you and Good bye. Hopes to see you soon {person_obj.name}')\n",
    "            break\n",
    "        \n",
    "        # The Assistant searches for information from Wikipedia. \n",
    "        # The wikipedia.summary() function takes two arguments: a user-supplied statement \n",
    "        # and the number of Wikipedia sentences to download. The result is stored in the search_results variable.\n",
    "        if 'wikipedia' in voice_command:\n",
    "            conversion_to_voice('Searching in Wikipedia...')\n",
    "            voice_command = voice_command.replace(\"wikipedia\", \"\")\n",
    "            search_results = wikipedia.summary(voice_command, sentences = 3)\n",
    "            conversion_to_voice(f\"This is what I found for You {person_obj.name}\")\n",
    "            print(search_results)\n",
    "            conversion_to_voice(search_results)\n",
    "        \n",
    "        # The assistant opens the YouTube page. \n",
    "        # FThe open_new_tab function takes a URL as the parameter to be accessed.\n",
    "        elif 'open youtube' in voice_command or 'otwórz youtube' in voice_command:\n",
    "            webbrowser.open_new_tab(\"https://www.youtube.com\")\n",
    "            conversion_to_voice(\"youtube is open now\")\n",
    "        \n",
    "        # The Assistant opens the YouTube page as instructed by the user.\n",
    "        # e.g.: \"Youtube find Sting\"\n",
    "        elif \"youtube find\" in voice_command: \n",
    "            search_results = voice_command.split(\"find\")[-1]  \n",
    "            url = f\"https://www.youtube.com/results?search_query={search_results}\"  \n",
    "            webbrowser.get().open(url)  \n",
    "            conversion_to_voice(f'{person_obj.name} Here is what I found for {search_results} on youtube') \n",
    "            \n",
    "        # The Assistant opens the Google page. \n",
    "        elif 'open google' in voice_command:\n",
    "            webbrowser.open_new_tab(\"https://www.google.com\")\n",
    "            conversion_to_voice(\"Google chrome is open\")\n",
    "        \n",
    "        # The assistant opens the Google page as instructed by the user.\n",
    "        # e.g.: \"Google find Sting\"\n",
    "        elif \"google find\" in voice_command:  \n",
    "            search_results = voice_command.split(\"find\")[-1]  \n",
    "            url = f\"https://google.com/search?q={search_results}\"  \n",
    "            webbrowser.get().open(url)  \n",
    "            conversion_to_voice(f'{person_obj.name} Here is what I found for {search_results} on google')\n",
    "\n",
    "        # The assistant opens Google Mail.    \n",
    "        elif 'open gmail' in voice_command:\n",
    "            webbrowser.open_new_tab(\"https://gmail.com\")\n",
    "            conversion_to_voice(\"Google Mail open\")\n",
    "        \n",
    "        # The Assistant will tell you the current time.\n",
    "        # e.g.: \"Time please\"\n",
    "        elif 'time' in voice_command:\n",
    "            strTime = datetime.datetime.now().strftime(\"%H:%M:%S\")\n",
    "            conversion_to_voice(f\"the time is {strTime}\")\n",
    "            print(f\"the time is {strTime}\")\n",
    "                        \n",
    "        # The Assistant opens the gazeta.pl website\n",
    "        # e.g.: \"News please\"\n",
    "        elif 'news' in voice_command:\n",
    "            news = webbrowser.open_new_tab('https://www.gazeta.pl/0,0.html')\n",
    "            conversion_to_voice(f'News in Poland. Enjoy it {person_obj.name}')\n",
    "                                        \n",
    "        elif 'who are you' in voice_command:\n",
    "            conversion_to_voice('I am your Personal assistent'\n",
    "                                'I can open Youtube. Google. Gmail. Find information in Google. Youtube. Wikipedia.'\n",
    "                                'Tell the current time'\n",
    "                                'Open Poland page news')\n",
    "                                           \n",
    "        elif \"made you\" in voice_command:\n",
    "            conversion_to_voice(\"I was made by Tomasz\")\n",
    "            print(\"I was made by Tomasz\") \n",
    "                                               "
   ]
  },
  {
   "cell_type": "code",
   "execution_count": null,
   "id": "268ccc00",
   "metadata": {},
   "outputs": [],
   "source": []
  }
 ],
 "metadata": {
  "kernelspec": {
   "display_name": "Python 3",
   "language": "python",
   "name": "python3"
  },
  "language_info": {
   "codemirror_mode": {
    "name": "ipython",
    "version": 3
   },
   "file_extension": ".py",
   "mimetype": "text/x-python",
   "name": "python",
   "nbconvert_exporter": "python",
   "pygments_lexer": "ipython3",
   "version": "3.8.3"
  }
 },
 "nbformat": 4,
 "nbformat_minor": 5
}
